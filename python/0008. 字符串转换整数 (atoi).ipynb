{
 "cells": [
  {
   "cell_type": "markdown",
   "metadata": {},
   "source": [
    "请你来实现一个 atoi 函数，使其能将字符串转换成整数。\n",
    "\n",
    "首先，该函数会根据需要丢弃无用的开头空格字符，直到寻找到第一个非空格的字符为止。\n",
    "\n",
    "当我们寻找到的第一个非空字符为正或者负号时，则将该符号与之后面尽可能多的连续数字组合起来，作为该整数的正负号；假如第一个非空字符是数字，则直接将其与之后连续的数字字符组合起来，形成整数。\n",
    "\n",
    "该字符串除了有效的整数部分之后也可能会存在多余的字符，这些字符可以被忽略，它们对于函数不应该造成影响。\n",
    "\n",
    "注意：假如该字符串中的第一个非空格字符不是一个有效整数字符、字符串为空或字符串仅包含空白字符时，则你的函数不需要进行转换。\n",
    "\n",
    "在任何情况下，若函数不能进行有效的转换时，请返回 0。\n",
    "\n",
    "说明：\n",
    "\n",
    "假设我们的环境只能存储 32 位大小的有符号整数，那么其数值范围为 $[−2^{31}, 2^{31} − 1]$。如果数值超过这个范围，请返回 INT_MAX $(2^{31} − 1)$ 或 INT_MIN $(−2^{31})$。\n",
    "\n",
    "示例 1:\n",
    "\n",
    "输入: \"42\"\n",
    "\n",
    "输出: 42\n",
    "\n",
    "示例 2:\n",
    "\n",
    "输入: \"   -42\"\n",
    "\n",
    "输出: -42\n",
    "\n",
    "解释: 第一个非空白字符为 '-', 它是一个负号。我们尽可能将负号与后面所有连续出现的数字组合起来，最后得到 -42。\n",
    "\n",
    "示例 3:\n",
    "\n",
    "输入: \"4193 with words\"\n",
    "\n",
    "输出: 4193\n",
    "\n",
    "解释: 转换截止于数字 '3' ，因为它的下一个字符不为数字。\n",
    "\n",
    "示例 4:\n",
    "\n",
    "输入: \"words and 987\"\n",
    "\n",
    "输出: 0\n",
    "\n",
    "解释: 第一个非空字符是 'w', 但它不是数字或正、负号。因此无法执行有效的转换。\n",
    "\n",
    "示例 5:\n",
    "\n",
    "输入: \"-91283472332\"\n",
    "\n",
    "输出: -2147483648\n",
    "\n",
    "解释: 数字 \"-91283472332\" 超过 32 位有符号整数范围。 因此返回 INT_MIN $(−2^{31})$。\n",
    "\n",
    "来源：力扣（LeetCode）\n",
    "链接：https://leetcode-cn.com/problems/string-to-integer-atoi\n",
    "著作权归领扣网络所有。商业转载请联系官方授权，非商业转载请注明出处。"
   ]
  },
  {
   "cell_type": "code",
   "execution_count": 1,
   "metadata": {},
   "outputs": [],
   "source": [
    "class Solution(object):\n",
    "    def myAtoi(self, str):\n",
    "        \"\"\"\n",
    "        :type str: str\n",
    "        :rtype: int\n",
    "        \"\"\"\n",
    "        answer = 0\n",
    "        minus = False\n",
    "        num_space = 0\n",
    "        \n",
    "        # 判断字符串前面的空格数，并清空\n",
    "        for c in str:\n",
    "            if c == ' ':\n",
    "                num_space += 1\n",
    "            else:\n",
    "                break\n",
    "        new_str = str[num_space:]\n",
    "        \n",
    "        if len(new_str) == 0:\n",
    "            return 0\n",
    "        \n",
    "        # 判断第一位的正负号\n",
    "        if new_str[0] == '+':\n",
    "            new_str = new_str[1:]\n",
    "        elif new_str[0] == '-':\n",
    "            minus = True\n",
    "            new_str = new_str[1:]\n",
    "        \n",
    "        # 判断后面的字符\n",
    "        for c in new_str:\n",
    "            if '0' <= c <= '9':\n",
    "                answer = 10 * answer + int(c)\n",
    "            else:\n",
    "                break\n",
    "        \n",
    "        if minus:\n",
    "            answer = -answer\n",
    "        if answer > 2**31 -1:\n",
    "            return 2**31 -1\n",
    "        elif answer < -2**31:\n",
    "            return -2**31\n",
    "        else:\n",
    "            return answer"
   ]
  },
  {
   "cell_type": "code",
   "execution_count": 2,
   "metadata": {},
   "outputs": [
    {
     "name": "stdout",
     "output_type": "stream",
     "text": [
      "0\n"
     ]
    }
   ],
   "source": [
    "str = \" \"\n",
    "print(Solution().myAtoi(str))"
   ]
  },
  {
   "cell_type": "code",
   "execution_count": 3,
   "metadata": {},
   "outputs": [
    {
     "name": "stdout",
     "output_type": "stream",
     "text": [
      "0\n"
     ]
    }
   ],
   "source": [
    "str = \"    \"\n",
    "print(Solution().myAtoi(str))"
   ]
  },
  {
   "cell_type": "code",
   "execution_count": 4,
   "metadata": {},
   "outputs": [
    {
     "name": "stdout",
     "output_type": "stream",
     "text": [
      "0\n"
     ]
    }
   ],
   "source": [
    "str = \"    + 9\"\n",
    "print(Solution().myAtoi(str))"
   ]
  },
  {
   "cell_type": "code",
   "execution_count": 5,
   "metadata": {},
   "outputs": [
    {
     "name": "stdout",
     "output_type": "stream",
     "text": [
      "42\n"
     ]
    }
   ],
   "source": [
    "str = \"42\"\n",
    "print(Solution().myAtoi(str))"
   ]
  },
  {
   "cell_type": "code",
   "execution_count": 6,
   "metadata": {},
   "outputs": [
    {
     "name": "stdout",
     "output_type": "stream",
     "text": [
      "-42\n"
     ]
    }
   ],
   "source": [
    "str = \"-42\"\n",
    "print(Solution().myAtoi(str))"
   ]
  },
  {
   "cell_type": "code",
   "execution_count": 7,
   "metadata": {},
   "outputs": [
    {
     "name": "stdout",
     "output_type": "stream",
     "text": [
      "4193\n"
     ]
    }
   ],
   "source": [
    "str = \"4193 with words\"\n",
    "print(Solution().myAtoi(str))"
   ]
  },
  {
   "cell_type": "code",
   "execution_count": 8,
   "metadata": {},
   "outputs": [
    {
     "name": "stdout",
     "output_type": "stream",
     "text": [
      "0\n"
     ]
    }
   ],
   "source": [
    "str = \"words and 987\"\n",
    "print(Solution().myAtoi(str))"
   ]
  },
  {
   "cell_type": "code",
   "execution_count": 9,
   "metadata": {},
   "outputs": [
    {
     "name": "stdout",
     "output_type": "stream",
     "text": [
      "-2147483648\n"
     ]
    }
   ],
   "source": [
    "str = \"-91283472332\"\n",
    "print(Solution().myAtoi(str))"
   ]
  },
  {
   "cell_type": "code",
   "execution_count": 10,
   "metadata": {},
   "outputs": [
    {
     "name": "stdout",
     "output_type": "stream",
     "text": [
      "0\n"
     ]
    }
   ],
   "source": [
    "str = \"  +  -098oplk\"\n",
    "print(Solution().myAtoi(str))"
   ]
  },
  {
   "cell_type": "code",
   "execution_count": 11,
   "metadata": {},
   "outputs": [
    {
     "name": "stdout",
     "output_type": "stream",
     "text": [
      "9\n"
     ]
    }
   ],
   "source": [
    "str = \" +09 123\" \n",
    "print(Solution().myAtoi(str))"
   ]
  },
  {
   "cell_type": "code",
   "execution_count": 12,
   "metadata": {},
   "outputs": [
    {
     "name": "stdout",
     "output_type": "stream",
     "text": [
      "0\n"
     ]
    }
   ],
   "source": [
    "str = \" +0 123\" \n",
    "print(Solution().myAtoi(str))"
   ]
  },
  {
   "cell_type": "code",
   "execution_count": null,
   "metadata": {},
   "outputs": [],
   "source": []
  }
 ],
 "metadata": {
  "kernelspec": {
   "display_name": "Python 3",
   "language": "python",
   "name": "python3"
  },
  "language_info": {
   "codemirror_mode": {
    "name": "ipython",
    "version": 3
   },
   "file_extension": ".py",
   "mimetype": "text/x-python",
   "name": "python",
   "nbconvert_exporter": "python",
   "pygments_lexer": "ipython3",
   "version": "3.7.3"
  }
 },
 "nbformat": 4,
 "nbformat_minor": 2
}
