{
 "cells": [
  {
   "cell_type": "markdown",
   "metadata": {},
   "source": [
    "请编写一个函数，使其可以删除某个链表中给定的（非末尾）节点，你将只被给定要求被删除的节点。\n",
    "\n",
    "现有一个链表 -- head = [4,5,1,9]，它可以表示为:\n",
    "\n",
    "![avatar](../image/237_example.png)\n",
    "\n",
    "示例 1:\n",
    "```\n",
    "输入: head = [4,5,1,9], node = 5\n",
    "输出: [4,1,9]\n",
    "解释: 给定你链表中值为 5 的第二个节点，那么在调用了你的函数之后，该链表应变为 4 -> 1 -> 9.\n",
    "```\n",
    "\n",
    "示例 2:\n",
    "```\n",
    "输入: head = [4,5,1,9], node = 1\n",
    "输出: [4,5,9]\n",
    "解释: 给定你链表中值为 1 的第三个节点，那么在调用了你的函数之后，该链表应变为 4 -> 5 -> 9.\n",
    "```\n",
    "\n",
    "说明:\n",
    "\n",
    "* 链表至少包含两个节点。\n",
    "* 链表中所有节点的值都是唯一的。\n",
    "* 给定的节点为非末尾节点并且一定是链表中的一个有效节点。\n",
    "* 不要从你的函数中返回任何结果。\n",
    "\n",
    "来源：力扣（LeetCode）\n",
    "链接：https://leetcode-cn.com/problems/delete-node-in-a-linked-list\n",
    "著作权归领扣网络所有。商业转载请联系官方授权，非商业转载请注明出处。"
   ]
  },
  {
   "cell_type": "code",
   "execution_count": 1,
   "metadata": {},
   "outputs": [],
   "source": [
    "# Definition for singly-linked list.\n",
    "class ListNode(object):\n",
    "    def __init__(self, x):\n",
    "        self.val = x\n",
    "        self.next = None\n",
    "\n",
    "def createList(n):\n",
    "    head = ListNode(0)\n",
    "    cur = head\n",
    "    for i in range(1, n):\n",
    "        cur.next = ListNode(i)\n",
    "        cur = cur.next\n",
    "    return head\n",
    "\n",
    "def printList(head):\n",
    "    cur = head\n",
    "    while cur != None:\n",
    "        print(cur.val, '-->', end=' ')\n",
    "        cur = cur.next\n",
    "    print('None')"
   ]
  },
  {
   "cell_type": "code",
   "execution_count": 2,
   "metadata": {},
   "outputs": [],
   "source": [
    "class Solution(object):\n",
    "    def deleteNode(self, node):\n",
    "        \"\"\"\n",
    "        :type node: ListNode\n",
    "        :rtype: void Do not return anything, modify node in-place instead.\n",
    "        \"\"\"\n",
    "        node.val = node.next.val\n",
    "        node.next = node.next.next"
   ]
  },
  {
   "cell_type": "code",
   "execution_count": 3,
   "metadata": {},
   "outputs": [
    {
     "name": "stdout",
     "output_type": "stream",
     "text": [
      "0 --> 1 --> 2 --> 3 --> 4 --> 5 --> 6 --> 7 --> 8 --> 9 --> None\n",
      "1 --> 2 --> 3 --> 4 --> 5 --> 6 --> 7 --> 8 --> 9 --> None\n"
     ]
    }
   ],
   "source": [
    "head = createList(10)\n",
    "printList(head)\n",
    "Solution().deleteNode(head)\n",
    "printList(head)"
   ]
  },
  {
   "cell_type": "code",
   "execution_count": 4,
   "metadata": {},
   "outputs": [
    {
     "name": "stdout",
     "output_type": "stream",
     "text": [
      "0 --> 1 --> 2 --> 3 --> 4 --> 5 --> 6 --> 7 --> 8 --> None\n",
      "0 --> 2 --> 3 --> 4 --> 5 --> 6 --> 7 --> 8 --> None\n"
     ]
    }
   ],
   "source": [
    "head = createList(9)\n",
    "printList(head)\n",
    "Solution().deleteNode(head.next)\n",
    "printList(head)"
   ]
  },
  {
   "cell_type": "code",
   "execution_count": 5,
   "metadata": {},
   "outputs": [
    {
     "name": "stdout",
     "output_type": "stream",
     "text": [
      "0 --> 1 --> 2 --> 3 --> 4 --> 5 --> 6 --> 7 --> None\n",
      "0 --> 1 --> 3 --> 4 --> 5 --> 6 --> 7 --> None\n"
     ]
    }
   ],
   "source": [
    "head = createList(8)\n",
    "printList(head)\n",
    "Solution().deleteNode(head.next.next)\n",
    "printList(head)"
   ]
  },
  {
   "cell_type": "code",
   "execution_count": null,
   "metadata": {},
   "outputs": [],
   "source": []
  }
 ],
 "metadata": {
  "kernelspec": {
   "display_name": "Python 3",
   "language": "python",
   "name": "python3"
  },
  "language_info": {
   "codemirror_mode": {
    "name": "ipython",
    "version": 3
   },
   "file_extension": ".py",
   "mimetype": "text/x-python",
   "name": "python",
   "nbconvert_exporter": "python",
   "pygments_lexer": "ipython3",
   "version": "3.7.3"
  }
 },
 "nbformat": 4,
 "nbformat_minor": 2
}
