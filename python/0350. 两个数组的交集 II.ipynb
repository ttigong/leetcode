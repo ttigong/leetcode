{
 "cells": [
  {
   "cell_type": "markdown",
   "metadata": {},
   "source": [
    "给定两个数组，编写一个函数来计算它们的交集。\n",
    "\n",
    "示例 1:\n",
    "\n",
    "输入: nums1 = [1,2,2,1], nums2 = [2,2]\n",
    "\n",
    "输出: [2,2]\n",
    "\n",
    "示例 2:\n",
    "\n",
    "输入: nums1 = [4,9,5], nums2 = [9,4,9,8,4]\n",
    "\n",
    "输出: [4,9]\n",
    "\n",
    "说明：\n",
    "\n",
    "输出结果中每个元素出现的次数，应与元素在两个数组中出现的次数一致。我们可以不考虑输出结果的顺序。\n",
    "\n",
    "进阶:\n",
    "\n",
    "如果给定的数组已经排好序呢？你将如何优化你的算法？\n",
    "\n",
    "如果 nums1 的大小比 nums2 小很多，哪种方法更优？\n",
    "\n",
    "如果 nums2 的元素存储在磁盘上，磁盘内存是有限的，并且你不能一次加载所有的元素到内存中，你该怎么办？\n",
    "\n",
    "来源：力扣（LeetCode）\n",
    "链接：https://leetcode-cn.com/problems/intersection-of-two-arrays-ii\n",
    "著作权归领扣网络所有。商业转载请联系官方授权，非商业转载请注明出处。"
   ]
  },
  {
   "cell_type": "code",
   "execution_count": 1,
   "metadata": {},
   "outputs": [],
   "source": [
    "class Solution(object):\n",
    "    def intersect(self, nums1, nums2):\n",
    "        \"\"\"\n",
    "        :type nums1: List[int]\n",
    "        :type nums2: List[int]\n",
    "        :rtype: List[int]\n",
    "        \"\"\"\n",
    "        nums=[]\n",
    "        m=len(nums1)\n",
    "        n=len(nums2)\n",
    "        if m < n:\n",
    "            for num in nums1:\n",
    "                if num in nums2:\n",
    "                    nums.append(num)\n",
    "                    nums2.remove(num)\n",
    "        else:\n",
    "            for num in nums2:\n",
    "                if num in nums1:\n",
    "                    nums.append(num)\n",
    "                    nums1.remove(num)\n",
    "        return nums"
   ]
  },
  {
   "cell_type": "code",
   "execution_count": 2,
   "metadata": {},
   "outputs": [
    {
     "name": "stdout",
     "output_type": "stream",
     "text": [
      "[4, 9]\n"
     ]
    }
   ],
   "source": [
    "nums1 = [4,9,5]\n",
    "nums2 = [9,4,9,8,4]\n",
    "print(Solution().intersect(nums1, nums2))"
   ]
  },
  {
   "cell_type": "code",
   "execution_count": null,
   "metadata": {},
   "outputs": [],
   "source": []
  }
 ],
 "metadata": {
  "kernelspec": {
   "display_name": "Python 3",
   "language": "python",
   "name": "python3"
  },
  "language_info": {
   "codemirror_mode": {
    "name": "ipython",
    "version": 3
   },
   "file_extension": ".py",
   "mimetype": "text/x-python",
   "name": "python",
   "nbconvert_exporter": "python",
   "pygments_lexer": "ipython3",
   "version": "3.7.3"
  }
 },
 "nbformat": 4,
 "nbformat_minor": 2
}
