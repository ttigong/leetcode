{
 "cells": [
  {
   "cell_type": "markdown",
   "metadata": {},
   "source": [
    "给定一个链表，判断链表中是否有环。\n",
    "\n",
    "为了表示给定链表中的环，我们使用整数 pos 来表示链表尾连接到链表中的位置（索引从 0 开始）。 如果 pos 是 -1，则在该链表中没有环。\n",
    "\n",
    "示例 1：\n",
    "```\n",
    "输入：head = [3,2,0,-4], pos = 1\n",
    "输出：true\n",
    "解释：链表中有一个环，其尾部连接到第二个节点。\n",
    "```\n",
    "![avatar](../image/circularlinkedlist.png)\n",
    "\n",
    "示例 2：\n",
    "```\n",
    "输入：head = [1,2], pos = 0\n",
    "输出：true\n",
    "解释：链表中有一个环，其尾部连接到第一个节点。\n",
    "```\n",
    "![avatar](../image/circularlinkedlist_test2.png)\n",
    "\n",
    "示例 3：\n",
    "```\n",
    "输入：head = [1], pos = -1\n",
    "输出：false\n",
    "解释：链表中没有环。\n",
    "```\n",
    "![avatar](../image/circularlinkedlist_test3.png)\n",
    "\n",
    "进阶：\n",
    "\n",
    "你能用 O(1)（即，常量）内存解决此问题吗？\n",
    "\n",
    "来源：力扣（LeetCode）\n",
    "链接：https://leetcode-cn.com/problems/linked-list-cycle\n",
    "著作权归领扣网络所有。商业转载请联系官方授权，非商业转载请注明出处。"
   ]
  },
  {
   "cell_type": "code",
   "execution_count": 1,
   "metadata": {},
   "outputs": [],
   "source": [
    "# Definition for singly-linked list.\n",
    "class ListNode(object):\n",
    "    def __init__(self, x):\n",
    "        self.val = x\n",
    "        self.next = None\n",
    "\n",
    "def createList(n):\n",
    "    head = ListNode(0)\n",
    "    cur = head\n",
    "    for i in range(1, n):\n",
    "        cur.next = ListNode(i)\n",
    "        cur = cur.next\n",
    "    cur.next = head\n",
    "    return head\n",
    "\n",
    "def printList(head):\n",
    "    cur = head\n",
    "    while cur:\n",
    "        print(cur.val, '-->', end=' ')\n",
    "        cur = cur.next\n",
    "    print('None')"
   ]
  },
  {
   "cell_type": "code",
   "execution_count": 2,
   "metadata": {},
   "outputs": [],
   "source": [
    "class Solution(object):\n",
    "    def hasCycle(self, head):\n",
    "        \"\"\"\n",
    "        :type head: ListNode\n",
    "        :rtype: bool\n",
    "        \"\"\"\n",
    "        hash_map = set()\n",
    "        while head:\n",
    "            if head in hash_map:\n",
    "                return True\n",
    "            else:\n",
    "                hash_map.add(head)\n",
    "            head = head.next\n",
    "        return False"
   ]
  },
  {
   "cell_type": "code",
   "execution_count": 3,
   "metadata": {},
   "outputs": [
    {
     "name": "stdout",
     "output_type": "stream",
     "text": [
      "True\n"
     ]
    }
   ],
   "source": [
    "head = createList(10)\n",
    "#printList(head)\n",
    "print(Solution().hasCycle(head))"
   ]
  },
  {
   "cell_type": "code",
   "execution_count": 4,
   "metadata": {},
   "outputs": [],
   "source": [
    "class Solution(object):\n",
    "    def hasCycle(self, head):\n",
    "        \"\"\"\n",
    "        :type head: ListNode\n",
    "        :rtype: bool\n",
    "        \"\"\"\n",
    "        if not head or not head.next :\n",
    "            return False\n",
    "        slow = head\n",
    "        fast = head.next\n",
    "        while slow != fast:\n",
    "            if not fast or not fast.next:\n",
    "                return False\n",
    "            slow = slow.next\n",
    "            fast = fast.next.next\n",
    "        return True"
   ]
  },
  {
   "cell_type": "code",
   "execution_count": 5,
   "metadata": {},
   "outputs": [
    {
     "name": "stdout",
     "output_type": "stream",
     "text": [
      "True\n"
     ]
    }
   ],
   "source": [
    "head = createList(10)\n",
    "#printList(head)\n",
    "print(Solution().hasCycle(head))"
   ]
  },
  {
   "cell_type": "code",
   "execution_count": null,
   "metadata": {},
   "outputs": [],
   "source": []
  }
 ],
 "metadata": {
  "kernelspec": {
   "display_name": "Python 3",
   "language": "python",
   "name": "python3"
  },
  "language_info": {
   "codemirror_mode": {
    "name": "ipython",
    "version": 3
   },
   "file_extension": ".py",
   "mimetype": "text/x-python",
   "name": "python",
   "nbconvert_exporter": "python",
   "pygments_lexer": "ipython3",
   "version": "3.7.3"
  }
 },
 "nbformat": 4,
 "nbformat_minor": 2
}
