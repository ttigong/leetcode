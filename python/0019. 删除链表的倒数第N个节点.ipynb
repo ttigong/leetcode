{
 "cells": [
  {
   "cell_type": "markdown",
   "metadata": {},
   "source": [
    "给定一个链表，删除链表的倒数第 n 个节点，并且返回链表的头结点。\n",
    "\n",
    "示例：\n",
    "```\n",
    "给定一个链表: 1->2->3->4->5, 和 n = 2.\n",
    "\n",
    "当删除了倒数第二个节点后，链表变为 1->2->3->5.\n",
    "```\n",
    "\n",
    "说明：\n",
    "\n",
    "给定的 n 保证是有效的。\n",
    "\n",
    "进阶：\n",
    "\n",
    "你能尝试使用一趟扫描实现吗？\n",
    "\n",
    "来源：力扣（LeetCode）\n",
    "链接：https://leetcode-cn.com/problems/remove-nth-node-from-end-of-list\n",
    "著作权归领扣网络所有。商业转载请联系官方授权，非商业转载请注明出处。"
   ]
  },
  {
   "cell_type": "code",
   "execution_count": 1,
   "metadata": {},
   "outputs": [],
   "source": [
    "# Definition for singly-linked list.\n",
    "class ListNode(object):\n",
    "    def __init__(self, x):\n",
    "        self.val = x\n",
    "        self.next = None\n",
    "\n",
    "def createList(n):\n",
    "    head = ListNode(0)\n",
    "    cur = head\n",
    "    for i in range(1, n):\n",
    "        cur.next = ListNode(i)\n",
    "        cur = cur.next\n",
    "    return head\n",
    "\n",
    "def printList(head):\n",
    "    cur = head\n",
    "    while cur:\n",
    "        print(cur.val, '-->', end=' ')\n",
    "        cur = cur.next\n",
    "    print('None')"
   ]
  },
  {
   "cell_type": "code",
   "execution_count": 2,
   "metadata": {},
   "outputs": [],
   "source": [
    "class Solution(object):\n",
    "    def removeNthFromEnd(self, head, n):\n",
    "        \"\"\"\n",
    "        :type head: ListNode\n",
    "        :type n: int\n",
    "        :rtype: ListNode\n",
    "        \"\"\"\n",
    "        dummy = ListNode('-1')\n",
    "        dummy.next = head\n",
    "        length = 0\n",
    "        first = head\n",
    "        while first:\n",
    "            first = first.next\n",
    "            length += 1\n",
    "        length -= n\n",
    "        first = dummy\n",
    "        while length > 0:\n",
    "            first = first.next\n",
    "            length -= 1\n",
    "        first.next = first.next.next\n",
    "        return dummy.next"
   ]
  },
  {
   "cell_type": "code",
   "execution_count": 3,
   "metadata": {},
   "outputs": [
    {
     "name": "stdout",
     "output_type": "stream",
     "text": [
      "0 --> 1 --> 2 --> 3 --> 4 --> 5 --> 6 --> 7 --> 8 --> 9 --> None\n",
      "0 --> 1 --> 2 --> 3 --> 4 --> 5 --> 6 --> 7 --> 8 --> None\n"
     ]
    }
   ],
   "source": [
    "head = createList(10)\n",
    "printList(head)\n",
    "printList(Solution().removeNthFromEnd(head, 1))"
   ]
  },
  {
   "cell_type": "code",
   "execution_count": 4,
   "metadata": {},
   "outputs": [
    {
     "name": "stdout",
     "output_type": "stream",
     "text": [
      "0 --> 1 --> 2 --> 3 --> 4 --> 5 --> 6 --> 7 --> 8 --> 9 --> None\n",
      "1 --> 2 --> 3 --> 4 --> 5 --> 6 --> 7 --> 8 --> 9 --> None\n"
     ]
    }
   ],
   "source": [
    "head = createList(10)\n",
    "printList(head)\n",
    "printList(Solution().removeNthFromEnd(head, 10))"
   ]
  },
  {
   "cell_type": "code",
   "execution_count": 5,
   "metadata": {},
   "outputs": [
    {
     "name": "stdout",
     "output_type": "stream",
     "text": [
      "0 --> None\n",
      "None\n"
     ]
    }
   ],
   "source": [
    "head = createList(1)\n",
    "printList(head)\n",
    "printList(Solution().removeNthFromEnd(head, 1))"
   ]
  },
  {
   "cell_type": "code",
   "execution_count": 6,
   "metadata": {},
   "outputs": [],
   "source": [
    "class Solution(object):\n",
    "    def removeNthFromEnd(self, head, n):\n",
    "        \"\"\"\n",
    "        :type head: ListNode\n",
    "        :type n: int\n",
    "        :rtype: ListNode\n",
    "        \"\"\"\n",
    "        dummy = ListNode('-1')\n",
    "        dummy.next = head\n",
    "        first = dummy\n",
    "        second = dummy\n",
    "        for i in range(1, n+2):\n",
    "            first = first.next\n",
    "        while first:\n",
    "            first = first.next\n",
    "            second = second.next\n",
    "        second.next = second.next.next\n",
    "        return dummy.next"
   ]
  },
  {
   "cell_type": "code",
   "execution_count": 7,
   "metadata": {},
   "outputs": [
    {
     "name": "stdout",
     "output_type": "stream",
     "text": [
      "0 --> 1 --> 2 --> 3 --> 4 --> 5 --> 6 --> 7 --> 8 --> 9 --> None\n",
      "0 --> 1 --> 2 --> 3 --> 4 --> 5 --> 6 --> 7 --> 8 --> None\n"
     ]
    }
   ],
   "source": [
    "head = createList(10)\n",
    "printList(head)\n",
    "printList(Solution().removeNthFromEnd(head, 1))"
   ]
  },
  {
   "cell_type": "code",
   "execution_count": 8,
   "metadata": {},
   "outputs": [
    {
     "name": "stdout",
     "output_type": "stream",
     "text": [
      "0 --> 1 --> 2 --> 3 --> 4 --> 5 --> 6 --> 7 --> 8 --> 9 --> None\n",
      "1 --> 2 --> 3 --> 4 --> 5 --> 6 --> 7 --> 8 --> 9 --> None\n"
     ]
    }
   ],
   "source": [
    "head = createList(10)\n",
    "printList(head)\n",
    "printList(Solution().removeNthFromEnd(head, 10))"
   ]
  },
  {
   "cell_type": "code",
   "execution_count": 9,
   "metadata": {},
   "outputs": [
    {
     "name": "stdout",
     "output_type": "stream",
     "text": [
      "0 --> None\n",
      "None\n"
     ]
    }
   ],
   "source": [
    "head = createList(1)\n",
    "printList(head)\n",
    "printList(Solution().removeNthFromEnd(head, 1))"
   ]
  },
  {
   "cell_type": "code",
   "execution_count": null,
   "metadata": {},
   "outputs": [],
   "source": []
  }
 ],
 "metadata": {
  "kernelspec": {
   "display_name": "Python 3",
   "language": "python",
   "name": "python3"
  },
  "language_info": {
   "codemirror_mode": {
    "name": "ipython",
    "version": 3
   },
   "file_extension": ".py",
   "mimetype": "text/x-python",
   "name": "python",
   "nbconvert_exporter": "python",
   "pygments_lexer": "ipython3",
   "version": "3.7.3"
  }
 },
 "nbformat": 4,
 "nbformat_minor": 2
}
