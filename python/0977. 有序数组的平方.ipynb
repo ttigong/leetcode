{
 "cells": [
  {
   "cell_type": "markdown",
   "metadata": {},
   "source": [
    "给定一个按非递减顺序排序的整数数组 A，返回每个数字的平方组成的新数组，要求也按非递减顺序排序。\n",
    "\n",
    "示例 1：\n",
    "\n",
    "输入：[-4,-1,0,3,10]\n",
    "\n",
    "输出：[0,1,9,16,100]\n",
    "\n",
    "示例 2：\n",
    "\n",
    "输入：[-7,-3,2,3,11]\n",
    "\n",
    "输出：[4,9,9,49,121]\n",
    "\n",
    "提示：\n",
    "\n",
    "1 <= A.length <= 10000\n",
    "\n",
    "-10000 <= A[i] <= 10000\n",
    "\n",
    "A 已按非递减顺序排序。\n",
    "\n",
    "来源：力扣（LeetCode）\n",
    "链接：https://leetcode-cn.com/problems/squares-of-a-sorted-array\n",
    "著作权归领扣网络所有。商业转载请联系官方授权，非商业转载请注明出处。"
   ]
  },
  {
   "cell_type": "code",
   "execution_count": 1,
   "metadata": {},
   "outputs": [],
   "source": [
    "class Solution(object):\n",
    "    def sortedSquares(self, A):\n",
    "        \"\"\"\n",
    "        :type A: List[int]\n",
    "        :rtype: List[int]\n",
    "        \"\"\"\n",
    "        n = len(A)\n",
    "        j = 0                     # i负数指标，j正数指标\n",
    "        while j<n and A[j]<0:\n",
    "            j += 1\n",
    "        i = j-1\n",
    "        \n",
    "        ans = []\n",
    "        while 0 <= i and j < n:\n",
    "            if A[i]**2 < A[j]**2:\n",
    "                ans.append(A[i]**2)\n",
    "                i -= 1\n",
    "            else:\n",
    "                ans.append(A[j]**2)\n",
    "                j += 1\n",
    "\n",
    "        while i >= 0:\n",
    "            ans.append(A[i]**2)\n",
    "            i -= 1\n",
    "        while j < n:\n",
    "            ans.append(A[j]**2)\n",
    "            j += 1\n",
    "\n",
    "        return ans"
   ]
  },
  {
   "cell_type": "code",
   "execution_count": 2,
   "metadata": {},
   "outputs": [
    {
     "name": "stdout",
     "output_type": "stream",
     "text": [
      "[0, 1, 9, 16, 100]\n"
     ]
    }
   ],
   "source": [
    "A = [-4,-1,0,3,10]\n",
    "print(Solution().sortedSquares(A))"
   ]
  },
  {
   "cell_type": "code",
   "execution_count": null,
   "metadata": {},
   "outputs": [],
   "source": []
  }
 ],
 "metadata": {
  "kernelspec": {
   "display_name": "Python 3",
   "language": "python",
   "name": "python3"
  },
  "language_info": {
   "codemirror_mode": {
    "name": "ipython",
    "version": 3
   },
   "file_extension": ".py",
   "mimetype": "text/x-python",
   "name": "python",
   "nbconvert_exporter": "python",
   "pygments_lexer": "ipython3",
   "version": "3.7.3"
  }
 },
 "nbformat": 4,
 "nbformat_minor": 2
}
