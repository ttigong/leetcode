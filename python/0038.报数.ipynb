{
 "cells": [
  {
   "cell_type": "markdown",
   "metadata": {},
   "source": [
    "报数序列是一个整数序列，按照其中的整数的顺序进行报数，得到下一个数。其前五项如下：\n",
    "\n",
    "1.     1\n",
    "2.     11\n",
    "3.     21\n",
    "4.     1211\n",
    "5.     111221\n",
    "\n",
    "1 被读作  \"one 1\"  (\"一个一\") , 即 11。\n",
    "\n",
    "11 被读作 \"two 1s\" (\"两个一\"）, 即 21。\n",
    "\n",
    "21 被读作 \"one 2\",  \"one 1\" （\"一个二\" ,  \"一个一\") , 即 1211。\n",
    "\n",
    "给定一个正整数 n（1 ≤ n ≤ 30），输出报数序列的第 n 项。\n",
    "\n",
    "注意：整数顺序将表示为一个字符串。\n",
    "\n",
    "示例 1:\n",
    "```\n",
    "输入: 1\n",
    "\n",
    "输出: \"1\"\n",
    "```\n",
    "示例 2:\n",
    "```\n",
    "输入: 4\n",
    "\n",
    "输出: \"1211\"\n",
    "```\n",
    "来源：力扣（LeetCode）\n",
    "链接：https://leetcode-cn.com/problems/count-and-say\n",
    "著作权归领扣网络所有。商业转载请联系官方授权，非商业转载请注明出处。"
   ]
  },
  {
   "cell_type": "code",
   "execution_count": 1,
   "metadata": {},
   "outputs": [],
   "source": [
    "# 方法一\n",
    "class Solution(object):\n",
    "    def countAndSay(self, n):\n",
    "        \"\"\"\n",
    "        :type n: int\n",
    "        :rtype: str\n",
    "        \"\"\"\n",
    "        if n == 1:\n",
    "            return \"1\"\n",
    "        last_num_str = self.countAndSay(n-1)\n",
    "        i, j = 0, 1\n",
    "        num_str = \"\"\n",
    "        while i < len(last_num_str)-1:\n",
    "            if last_num_str[i+1] == last_num_str[i]:\n",
    "                j += 1\n",
    "                i += 1\n",
    "            else:\n",
    "                num_str += str(j) + last_num_str[i]\n",
    "                j = 1\n",
    "                i += 1\n",
    "        num_str += str(j) + last_num_str[i]\n",
    "        return num_str"
   ]
  },
  {
   "cell_type": "code",
   "execution_count": 2,
   "metadata": {},
   "outputs": [
    {
     "name": "stdout",
     "output_type": "stream",
     "text": [
      "1211\n"
     ]
    }
   ],
   "source": [
    "n = 4\n",
    "print(Solution().countAndSay(n))"
   ]
  },
  {
   "cell_type": "code",
   "execution_count": 3,
   "metadata": {},
   "outputs": [
    {
     "name": "stdout",
     "output_type": "stream",
     "text": [
      "312211\n"
     ]
    }
   ],
   "source": [
    "n = 6\n",
    "print(Solution().countAndSay(n))"
   ]
  },
  {
   "cell_type": "code",
   "execution_count": null,
   "metadata": {},
   "outputs": [],
   "source": []
  }
 ],
 "metadata": {
  "kernelspec": {
   "display_name": "Python 3",
   "language": "python",
   "name": "python3"
  },
  "language_info": {
   "codemirror_mode": {
    "name": "ipython",
    "version": 3
   },
   "file_extension": ".py",
   "mimetype": "text/x-python",
   "name": "python",
   "nbconvert_exporter": "python",
   "pygments_lexer": "ipython3",
   "version": "3.7.3"
  }
 },
 "nbformat": 4,
 "nbformat_minor": 2
}
