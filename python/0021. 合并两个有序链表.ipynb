{
 "cells": [
  {
   "cell_type": "markdown",
   "metadata": {},
   "source": [
    "将两个有序链表合并为一个新的有序链表并返回。新链表是通过拼接给定的两个链表的所有节点组成的。 \n",
    "\n",
    "示例：\n",
    "```\n",
    "输入：1->2->4, 1->3->4\n",
    "输出：1->1->2->3->4->4\n",
    "```\n",
    "\n",
    "来源：力扣（LeetCode）\n",
    "链接：https://leetcode-cn.com/problems/merge-two-sorted-lists\n",
    "著作权归领扣网络所有。商业转载请联系官方授权，非商业转载请注明出处。"
   ]
  },
  {
   "cell_type": "code",
   "execution_count": 1,
   "metadata": {},
   "outputs": [],
   "source": [
    "# Definition for singly-linked list.\n",
    "class ListNode(object):\n",
    "    def __init__(self, x):\n",
    "        self.val = x\n",
    "        self.next = None\n",
    "\n",
    "def createList(n):\n",
    "    head = ListNode(0)\n",
    "    cur = head\n",
    "    for i in range(1, n):\n",
    "        cur.next = ListNode(i)\n",
    "        cur = cur.next\n",
    "    return head\n",
    "\n",
    "def printList(head):\n",
    "    cur = head\n",
    "    while cur != None:\n",
    "        print(cur.val, '-->', end=' ')\n",
    "        cur = cur.next\n",
    "    print('None')"
   ]
  },
  {
   "cell_type": "code",
   "execution_count": 2,
   "metadata": {},
   "outputs": [],
   "source": [
    "class Solution(object):\n",
    "    def mergeTwoLists(self, l1, l2):\n",
    "        \"\"\"\n",
    "        :type l1: ListNode\n",
    "        :type l2: ListNode\n",
    "        :rtype: ListNode\n",
    "        \"\"\"\n",
    "        if l1 is None:\n",
    "            return l2\n",
    "        elif l2 is None:\n",
    "            return l1\n",
    "        elif l1.val < l2.val:\n",
    "            l1.next = self.mergeTwoLists(l1.next, l2)\n",
    "            return l1\n",
    "        else:\n",
    "            l2.next = self.mergeTwoLists(l1, l2.next)\n",
    "            return l2"
   ]
  },
  {
   "cell_type": "code",
   "execution_count": 3,
   "metadata": {},
   "outputs": [
    {
     "name": "stdout",
     "output_type": "stream",
     "text": [
      "0 --> 1 --> 2 --> 3 --> None\n",
      "0 --> 1 --> None\n",
      "0 --> 0 --> 1 --> 1 --> 2 --> 3 --> None\n"
     ]
    }
   ],
   "source": [
    "head1 = createList(4)\n",
    "head2 = createList(2)\n",
    "printList(head1)\n",
    "printList(head2)\n",
    "printList(Solution().mergeTwoLists(head1, head2))"
   ]
  },
  {
   "cell_type": "code",
   "execution_count": 4,
   "metadata": {},
   "outputs": [],
   "source": [
    "class Solution(object):\n",
    "    def mergeTwoLists(self, l1, l2):\n",
    "        \"\"\"\n",
    "        :type l1: ListNode\n",
    "        :type l2: ListNode\n",
    "        :rtype: ListNode\n",
    "        \"\"\"\n",
    "        # maintain an unchanging reference to node ahead of the return node.\n",
    "        prehead = ListNode(-1)\n",
    "\n",
    "        prev = prehead\n",
    "        while l1 and l2:\n",
    "            if l1.val <= l2.val:\n",
    "                prev.next = l1\n",
    "                l1 = l1.next\n",
    "            else:\n",
    "                prev.next = l2\n",
    "                l2 = l2.next            \n",
    "            prev = prev.next\n",
    "\n",
    "        # exactly one of l1 and l2 can be non-null at this point, so connect\n",
    "        # the non-null list to the end of the merged list.\n",
    "        prev.next = l1 if l1 is not None else l2\n",
    "\n",
    "        return prehead.next"
   ]
  },
  {
   "cell_type": "code",
   "execution_count": 5,
   "metadata": {},
   "outputs": [
    {
     "name": "stdout",
     "output_type": "stream",
     "text": [
      "0 --> 1 --> 2 --> 3 --> None\n",
      "0 --> 1 --> None\n",
      "0 --> 0 --> 1 --> 1 --> 2 --> 3 --> None\n"
     ]
    }
   ],
   "source": [
    "head1 = createList(4)\n",
    "head2 = createList(2)\n",
    "printList(head1)\n",
    "printList(head2)\n",
    "printList(Solution().mergeTwoLists(head1, head2))"
   ]
  },
  {
   "cell_type": "code",
   "execution_count": null,
   "metadata": {},
   "outputs": [],
   "source": []
  }
 ],
 "metadata": {
  "kernelspec": {
   "display_name": "Python 3",
   "language": "python",
   "name": "python3"
  },
  "language_info": {
   "codemirror_mode": {
    "name": "ipython",
    "version": 3
   },
   "file_extension": ".py",
   "mimetype": "text/x-python",
   "name": "python",
   "nbconvert_exporter": "python",
   "pygments_lexer": "ipython3",
   "version": "3.7.3"
  }
 },
 "nbformat": 4,
 "nbformat_minor": 2
}
