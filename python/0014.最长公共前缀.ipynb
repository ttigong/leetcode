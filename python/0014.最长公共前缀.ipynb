{
 "cells": [
  {
   "cell_type": "markdown",
   "metadata": {},
   "source": [
    "编写一个函数来查找字符串数组中的最长公共前缀。\n",
    "\n",
    "如果不存在公共前缀，返回空字符串 \"\"。\n",
    "\n",
    "示例 1:\n",
    "\n",
    "输入: [\"flower\",\"flow\",\"flight\"]\n",
    "\n",
    "输出: \"fl\"\n",
    "\n",
    "示例 2:\n",
    "\n",
    "输入: [\"dog\",\"racecar\",\"car\"]\n",
    "\n",
    "输出: \"\"\n",
    "\n",
    "解释: 输入不存在公共前缀。\n",
    "\n",
    "说明:\n",
    "\n",
    "所有输入只包含小写字母 a-z 。\n",
    "\n",
    "来源：力扣（LeetCode）\n",
    "链接：https://leetcode-cn.com/problems/longest-common-prefix\n",
    "著作权归领扣网络所有。商业转载请联系官方授权，非商业转载请注明出处。"
   ]
  },
  {
   "cell_type": "code",
   "execution_count": 1,
   "metadata": {},
   "outputs": [],
   "source": [
    "# 方法一\n",
    "class Solution(object):\n",
    "    def longestCommonPrefix(self, strs):\n",
    "        \"\"\"\n",
    "        :type strs: List[str]\n",
    "        :rtype: str\n",
    "        \"\"\"\n",
    "        n = len(strs)\n",
    "        if n == 0:\n",
    "            return \"\"\n",
    "        common = strs[0]\n",
    "        for index in range(1, len(strs)):\n",
    "            common = self.CommonPrefix(common, strs[index])\n",
    "        return common\n",
    "    def CommonPrefix(self, str1, str2):\n",
    "        m = min(len(str1), len(str2))\n",
    "        if m == 0:\n",
    "            return \"\"\n",
    "        i = 0\n",
    "        while i < m:\n",
    "            if str1[i] != str2[i]:\n",
    "                return str1[:i]\n",
    "            else:\n",
    "                i += 1\n",
    "        return str1[:i]"
   ]
  },
  {
   "cell_type": "code",
   "execution_count": 2,
   "metadata": {},
   "outputs": [
    {
     "name": "stdout",
     "output_type": "stream",
     "text": [
      "fl\n"
     ]
    }
   ],
   "source": [
    "strs = [\"flower\", \"flow\", \"flight\"]\n",
    "print(Solution().longestCommonPrefix(strs))"
   ]
  },
  {
   "cell_type": "code",
   "execution_count": 3,
   "metadata": {},
   "outputs": [
    {
     "name": "stdout",
     "output_type": "stream",
     "text": [
      "\n"
     ]
    }
   ],
   "source": [
    "strs = [\"dog\",\"racecar\",\"car\"]\n",
    "print(Solution().longestCommonPrefix(strs))"
   ]
  },
  {
   "cell_type": "code",
   "execution_count": 4,
   "metadata": {},
   "outputs": [],
   "source": [
    "# 方法二\n",
    "class Solution(object):\n",
    "    def longestCommonPrefix(self, strs):\n",
    "        \"\"\"\n",
    "        :type strs: List[str]\n",
    "        :rtype: str\n",
    "        \"\"\"\n",
    "        n = len(strs)\n",
    "        if n == 0:\n",
    "            return \"\"\n",
    "        m = min([len(str) for str in strs])\n",
    "        if m == 0:\n",
    "            return \"\"\n",
    "        i = 0\n",
    "        while i < m:\n",
    "            for j in range(n-1):\n",
    "                if strs[j+1][i] != strs[j][i]:\n",
    "                    return strs[0][:i]\n",
    "            i += 1\n",
    "        return strs[0][:i]"
   ]
  },
  {
   "cell_type": "code",
   "execution_count": 5,
   "metadata": {},
   "outputs": [
    {
     "name": "stdout",
     "output_type": "stream",
     "text": [
      "fl\n"
     ]
    }
   ],
   "source": [
    "strs = [\"flower\", \"flow\", \"flight\"]\n",
    "print(Solution().longestCommonPrefix(strs))"
   ]
  },
  {
   "cell_type": "code",
   "execution_count": 6,
   "metadata": {},
   "outputs": [
    {
     "name": "stdout",
     "output_type": "stream",
     "text": [
      "\n"
     ]
    }
   ],
   "source": [
    "strs = [\"dog\",\"racecar\",\"car\"]\n",
    "print(Solution().longestCommonPrefix(strs))"
   ]
  },
  {
   "cell_type": "code",
   "execution_count": 7,
   "metadata": {},
   "outputs": [],
   "source": [
    "# 方法三\n",
    "class Solution(object):\n",
    "    def longestCommonPrefix(self, strs):\n",
    "        \"\"\"\n",
    "        :type strs: List[str]\n",
    "        :rtype: str\n",
    "        \"\"\"\n",
    "        n = len(strs)\n",
    "        if n == 0:\n",
    "            return \"\"\n",
    "        strs.sort()\n",
    "        left = strs[0]\n",
    "        right = strs[n-1]\n",
    "        return self.CommonPrefix(left, right)\n",
    "    def CommonPrefix(self, str1, str2):\n",
    "        m = min(len(str1), len(str2))\n",
    "        if m == 0:\n",
    "            return \"\"\n",
    "        i = 0\n",
    "        while i < m:\n",
    "            if str1[i] != str2[i]:\n",
    "                return str1[:i]\n",
    "            else:\n",
    "                i += 1\n",
    "        return str1[:i]"
   ]
  },
  {
   "cell_type": "code",
   "execution_count": 8,
   "metadata": {},
   "outputs": [
    {
     "name": "stdout",
     "output_type": "stream",
     "text": [
      "fl\n"
     ]
    }
   ],
   "source": [
    "strs = [\"flower\", \"flow\", \"flight\"]\n",
    "print(Solution().longestCommonPrefix(strs))"
   ]
  },
  {
   "cell_type": "code",
   "execution_count": 9,
   "metadata": {},
   "outputs": [
    {
     "name": "stdout",
     "output_type": "stream",
     "text": [
      "\n"
     ]
    }
   ],
   "source": [
    "strs = [\"dog\",\"racecar\",\"car\"]\n",
    "print(Solution().longestCommonPrefix(strs))"
   ]
  },
  {
   "cell_type": "code",
   "execution_count": null,
   "metadata": {},
   "outputs": [],
   "source": []
  }
 ],
 "metadata": {
  "kernelspec": {
   "display_name": "Python 3",
   "language": "python",
   "name": "python3"
  },
  "language_info": {
   "codemirror_mode": {
    "name": "ipython",
    "version": 3
   },
   "file_extension": ".py",
   "mimetype": "text/x-python",
   "name": "python",
   "nbconvert_exporter": "python",
   "pygments_lexer": "ipython3",
   "version": "3.7.3"
  }
 },
 "nbformat": 4,
 "nbformat_minor": 2
}
