{
 "cells": [
  {
   "cell_type": "markdown",
   "metadata": {},
   "source": [
    "请判断一个链表是否为回文链表。\n",
    "\n",
    "示例 1:\n",
    "```\n",
    "输入: 1->2\n",
    "输出: false\n",
    "```\n",
    "\n",
    "示例 2:\n",
    "```\n",
    "输入: 1->2->2->1\n",
    "输出: true\n",
    "```\n",
    "\n",
    "进阶：\n",
    "你能否用 O(n) 时间复杂度和 O(1) 空间复杂度解决此题？\n",
    "\n",
    "来源：力扣（LeetCode）\n",
    "链接：https://leetcode-cn.com/problems/palindrome-linked-list\n",
    "著作权归领扣网络所有。商业转载请联系官方授权，非商业转载请注明出处。"
   ]
  },
  {
   "cell_type": "code",
   "execution_count": 1,
   "metadata": {},
   "outputs": [],
   "source": [
    "# Definition for singly-linked list.\n",
    "class ListNode(object):\n",
    "    def __init__(self, x):\n",
    "        self.val = x\n",
    "        self.next = None\n",
    "\n",
    "def createList(n):\n",
    "    head = ListNode(0)\n",
    "    cur = head\n",
    "    for i in range(1, n):\n",
    "        cur.next = ListNode(i)\n",
    "        cur = cur.next\n",
    "    for i in range(n, -1, -1):\n",
    "        cur.next = ListNode(i)\n",
    "        cur = cur.next\n",
    "    return head\n",
    "\n",
    "def printList(head):\n",
    "    cur = head\n",
    "    while cur:\n",
    "        print(cur.val, '-->', end=' ')\n",
    "        cur = cur.next\n",
    "    print('None')"
   ]
  },
  {
   "cell_type": "code",
   "execution_count": 2,
   "metadata": {},
   "outputs": [],
   "source": [
    "class Solution(object):\n",
    "    def isPalindrome(self, head):\n",
    "        \"\"\"\n",
    "        :type head: ListNode\n",
    "        :rtype: bool\n",
    "        \"\"\"\n",
    "        if not head:\n",
    "            return True\n",
    "        left = right = head\n",
    "        # 找中点\n",
    "        while right.next and right.next.next:\n",
    "            left = left.next\n",
    "            right = right.next.next\n",
    "        right = left.next\n",
    "        left.next = None # 中断链表\n",
    "        # 翻转后面的链表\n",
    "        res = None\n",
    "        while right:\n",
    "            res, right.next, right = right, res, right.next\n",
    "        # 判断翻转后的链表与前面链表是否相同\n",
    "        while res and head:\n",
    "            if head.val !=res.val:\n",
    "                return False\n",
    "            head = head.next\n",
    "            res = res.next\n",
    "        return True"
   ]
  },
  {
   "cell_type": "code",
   "execution_count": 3,
   "metadata": {},
   "outputs": [
    {
     "name": "stdout",
     "output_type": "stream",
     "text": [
      "0 --> 1 --> 2 --> 3 --> 2 --> 1 --> 0 --> None\n",
      "True\n"
     ]
    }
   ],
   "source": [
    "head = createList(3)\n",
    "printList(head)\n",
    "print(Solution().isPalindrome(head))"
   ]
  },
  {
   "cell_type": "code",
   "execution_count": null,
   "metadata": {},
   "outputs": [],
   "source": []
  }
 ],
 "metadata": {
  "kernelspec": {
   "display_name": "Python 3",
   "language": "python",
   "name": "python3"
  },
  "language_info": {
   "codemirror_mode": {
    "name": "ipython",
    "version": 3
   },
   "file_extension": ".py",
   "mimetype": "text/x-python",
   "name": "python",
   "nbconvert_exporter": "python",
   "pygments_lexer": "ipython3",
   "version": "3.7.3"
  }
 },
 "nbformat": 4,
 "nbformat_minor": 2
}
