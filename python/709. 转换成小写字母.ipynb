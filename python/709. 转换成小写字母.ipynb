{
 "cells": [
  {
   "cell_type": "markdown",
   "metadata": {},
   "source": [
    "实现函数 ToLowerCase()，该函数接收一个字符串参数 str，并将该字符串中的大写字母转换成小写字母，之后返回新的字符串。\n",
    "\n",
    "示例 1：\n",
    "\n",
    "输入: \"Hello\"\n",
    "\n",
    "输出: \"hello\"\n",
    "\n",
    "示例 2：\n",
    "\n",
    "输入: \"here\"\n",
    "\n",
    "输出: \"here\"\n",
    "\n",
    "示例 3：\n",
    "\n",
    "输入: \"LOVELY\"\n",
    "\n",
    "输出: \"lovely\"\n",
    "\n",
    "来源：力扣（LeetCode）\n",
    "链接：https://leetcode-cn.com/problems/to-lower-case\n",
    "著作权归领扣网络所有。商业转载请联系官方授权，非商业转载请注明出处。"
   ]
  },
  {
   "cell_type": "code",
   "execution_count": 1,
   "metadata": {},
   "outputs": [],
   "source": [
    "class Solution:\n",
    "    def toLowerCase(self, str: str) -> str:\n",
    "        low = ''\n",
    "        for s in str:\n",
    "            if (ord(s) >= ord('A')) and (ord(s) <= ord('Z')):\n",
    "                low += chr(ord(s)-ord('A')+ord('a'))\n",
    "            else:\n",
    "                low += s\n",
    "        return low"
   ]
  },
  {
   "cell_type": "code",
   "execution_count": 2,
   "metadata": {},
   "outputs": [
    {
     "name": "stdout",
     "output_type": "stream",
     "text": [
      "hello\n"
     ]
    }
   ],
   "source": [
    "str=\"Hello\"\n",
    "print(Solution().toLowerCase(str))"
   ]
  }
 ],
 "metadata": {
  "kernelspec": {
   "display_name": "Python 3",
   "language": "python",
   "name": "python3"
  },
  "language_info": {
   "codemirror_mode": {
    "name": "ipython",
    "version": 3
   },
   "file_extension": ".py",
   "mimetype": "text/x-python",
   "name": "python",
   "nbconvert_exporter": "python",
   "pygments_lexer": "ipython3",
   "version": "3.7.3"
  }
 },
 "nbformat": 4,
 "nbformat_minor": 2
}
