{
 "cells": [
  {
   "cell_type": "markdown",
   "metadata": {},
   "source": [
    "https://leetcode.com/problems/remove-duplicates-from-sorted-array/\n",
    "\n",
    "Given a sorted array nums, remove the duplicates in-place such that each element appear only once and return the new length.\n",
    "\n",
    "Do not allocate extra space for another array, you must do this by modifying the input array in-place with O(1) extra memory.\n",
    "\n",
    "Example 1:\n",
    "\n",
    "Given nums = [1,1,2],\n",
    "\n",
    "Your function should return length = 2, with the first two elements of nums being 1 and 2 respectively.\n",
    "\n",
    "It doesn't matter what you leave beyond the returned length.\n",
    "\n",
    "Example 2:\n",
    "\n",
    "Given nums = [0,0,1,1,1,2,2,3,3,4],\n",
    "\n",
    "Your function should return length = 5, with the first five elements of nums being modified to 0, 1, 2, 3, and 4 respectively.\n",
    "\n",
    "It doesn't matter what values are set beyond the returned length.\n",
    "\n",
    "Clarification:\n",
    "\n",
    "Confused why the returned value is an integer but your answer is an array?\n",
    "\n",
    "Note that the input array is passed in by reference, which means modification to the input array will be known to the caller as well.\n",
    "\n",
    "Internally you can think of this:\n",
    "\n",
    "```C\n",
    "// nums is passed in by reference. (i.e., without making a copy)\n",
    "int len = removeDuplicates(nums);\n",
    "\n",
    "// any modification to nums in your function would be known by the caller.\n",
    "\n",
    "// using the length returned by your function, it prints the first len elements.\n",
    "\n",
    "for (int i = 0; i < len; i++) {\n",
    "    print(nums[i]);\n",
    "}\n",
    "```"
   ]
  },
  {
   "cell_type": "code",
   "execution_count": 5,
   "metadata": {},
   "outputs": [],
   "source": [
    "from typing import List\n",
    "class Solution:\n",
    "    def removeDuplicates(self, nums: List[int]) -> int:\n",
    "        if len(nums) == 0:                  # 若列表为空，返回 0\n",
    "            return 0;\n",
    "        i = 0;                              # 初始 i 指向第一个元素\n",
    "        for j in range(1, len(nums)):       # j 从第二个元素跑遍列表，若 nums[j] 与 nums[i] 一样，j 继续往后跑 \n",
    "            if nums[j] != nums[i]:          # 直到 nums[j] 与 nums[i] 不一样\n",
    "                i += 1;                     # i 指向下一个元素\n",
    "                nums[i] = nums[j];          # 将 nums[j] 的值赋予 nums[i]\n",
    "        return i+1;                         # 由于 i 从 0 开始，返回元素数目 i+1"
   ]
  },
  {
   "cell_type": "code",
   "execution_count": 12,
   "metadata": {},
   "outputs": [
    {
     "name": "stdout",
     "output_type": "stream",
     "text": [
      "2\n",
      "[1, 2]"
     ]
    }
   ],
   "source": [
    "nums = [1, 1, 2]\n",
    "length = Solution().removeDuplicates(nums)\n",
    "print(length)\n",
    "print('[', end='')\n",
    "for i in range(length-1):\n",
    "    print(nums[i], end=', ')\n",
    "if length > 0:\n",
    "    print(nums[length-1], end='')\n",
    "print(']', end='')"
   ]
  },
  {
   "cell_type": "code",
   "execution_count": 13,
   "metadata": {},
   "outputs": [
    {
     "name": "stdout",
     "output_type": "stream",
     "text": [
      "5\n",
      "[0, 1, 2, 3, 4]"
     ]
    }
   ],
   "source": [
    "nums = [0, 0, 1, 1, 1, 2, 2, 3, 3, 4]\n",
    "length = Solution().removeDuplicates(nums)\n",
    "print(length)\n",
    "print('[', end='')\n",
    "for i in range(length-1):\n",
    "    print(nums[i], end=', ')\n",
    "if length > 0:\n",
    "    print(nums[length-1], end='')\n",
    "print(']', end='')"
   ]
  },
  {
   "cell_type": "code",
   "execution_count": 15,
   "metadata": {},
   "outputs": [
    {
     "name": "stdout",
     "output_type": "stream",
     "text": [
      "1\n",
      "[0]"
     ]
    }
   ],
   "source": [
    "nums = [0]\n",
    "length = Solution().removeDuplicates(nums)\n",
    "print(length)\n",
    "print('[', end='')\n",
    "for i in range(length-1):\n",
    "    print(nums[i], end=', ')\n",
    "if length > 0:\n",
    "    print(nums[length-1], end='')\n",
    "print(']', end='')"
   ]
  },
  {
   "cell_type": "code",
   "execution_count": 17,
   "metadata": {},
   "outputs": [
    {
     "name": "stdout",
     "output_type": "stream",
     "text": [
      "0\n",
      "[]"
     ]
    }
   ],
   "source": [
    "nums = []\n",
    "length = Solution().removeDuplicates(nums)\n",
    "print(length)\n",
    "print('[', end='')\n",
    "for i in range(length-1):\n",
    "    print(nums[i], end=', ')\n",
    "if length > 0:\n",
    "    print(nums[length-1], end='')\n",
    "print(']', end='')"
   ]
  }
 ],
 "metadata": {
  "kernelspec": {
   "display_name": "Python 3",
   "language": "python",
   "name": "python3"
  },
  "language_info": {
   "codemirror_mode": {
    "name": "ipython",
    "version": 3
   },
   "file_extension": ".py",
   "mimetype": "text/x-python",
   "name": "python",
   "nbconvert_exporter": "python",
   "pygments_lexer": "ipython3",
   "version": "3.7.3"
  }
 },
 "nbformat": 4,
 "nbformat_minor": 2
}
